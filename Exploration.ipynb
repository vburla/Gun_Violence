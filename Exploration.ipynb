{
 "cells": [
  {
   "cell_type": "code",
   "execution_count": 29,
   "metadata": {},
   "outputs": [],
   "source": [
    "import pandas as pd\n",
    "import numpy as np\n",
    "import matplotlib.pyplot as plt\n",
    "import plotly.graph_objs as go\n",
    "import plotly.plotly as py\n",
    "from plotly import tools\n",
    "import seaborn as sns\n",
    "from plotly.offline import init_notebook_mode, iplot\n",
    "import calendar"
   ]
  },
  {
   "cell_type": "code",
   "execution_count": 18,
   "metadata": {},
   "outputs": [
    {
     "data": {
      "text/html": [
       "<script>requirejs.config({paths: { 'plotly': ['https://cdn.plot.ly/plotly-latest.min']},});if(!window.Plotly) {{require(['plotly'],function(plotly) {window.Plotly=plotly;});}}</script>"
      ],
      "text/vnd.plotly.v1+html": [
       "<script>requirejs.config({paths: { 'plotly': ['https://cdn.plot.ly/plotly-latest.min']},});if(!window.Plotly) {{require(['plotly'],function(plotly) {window.Plotly=plotly;});}}</script>"
      ]
     },
     "metadata": {},
     "output_type": "display_data"
    }
   ],
   "source": [
    "init_notebook_mode(connected=True)"
   ]
  },
  {
   "cell_type": "code",
   "execution_count": 2,
   "metadata": {
    "collapsed": true
   },
   "outputs": [],
   "source": [
    "path = \"Data/gun-violence-data_01-2013_03-2018.csv\"\n",
    "data = pd.read_csv(path,parse_dates=['date'])"
   ]
  },
  {
   "cell_type": "code",
   "execution_count": 3,
   "metadata": {},
   "outputs": [
    {
     "data": {
      "text/html": [
       "<div>\n",
       "<style>\n",
       "    .dataframe thead tr:only-child th {\n",
       "        text-align: right;\n",
       "    }\n",
       "\n",
       "    .dataframe thead th {\n",
       "        text-align: left;\n",
       "    }\n",
       "\n",
       "    .dataframe tbody tr th {\n",
       "        vertical-align: top;\n",
       "    }\n",
       "</style>\n",
       "<table border=\"1\" class=\"dataframe\">\n",
       "  <thead>\n",
       "    <tr style=\"text-align: right;\">\n",
       "      <th></th>\n",
       "      <th>incident_id</th>\n",
       "      <th>date</th>\n",
       "      <th>state</th>\n",
       "      <th>city_or_county</th>\n",
       "      <th>address</th>\n",
       "      <th>n_killed</th>\n",
       "      <th>n_injured</th>\n",
       "      <th>incident_url</th>\n",
       "      <th>source_url</th>\n",
       "      <th>incident_url_fields_missing</th>\n",
       "      <th>...</th>\n",
       "      <th>participant_age</th>\n",
       "      <th>participant_age_group</th>\n",
       "      <th>participant_gender</th>\n",
       "      <th>participant_name</th>\n",
       "      <th>participant_relationship</th>\n",
       "      <th>participant_status</th>\n",
       "      <th>participant_type</th>\n",
       "      <th>sources</th>\n",
       "      <th>state_house_district</th>\n",
       "      <th>state_senate_district</th>\n",
       "    </tr>\n",
       "  </thead>\n",
       "  <tbody>\n",
       "    <tr>\n",
       "      <th>0</th>\n",
       "      <td>461105</td>\n",
       "      <td>2013-01-01</td>\n",
       "      <td>Pennsylvania</td>\n",
       "      <td>Mckeesport</td>\n",
       "      <td>1506 Versailles Avenue and Coursin Street</td>\n",
       "      <td>0</td>\n",
       "      <td>4</td>\n",
       "      <td>http://www.gunviolencearchive.org/incident/461105</td>\n",
       "      <td>http://www.post-gazette.com/local/south/2013/0...</td>\n",
       "      <td>False</td>\n",
       "      <td>...</td>\n",
       "      <td>0::20</td>\n",
       "      <td>0::Adult 18+||1::Adult 18+||2::Adult 18+||3::A...</td>\n",
       "      <td>0::Male||1::Male||3::Male||4::Female</td>\n",
       "      <td>0::Julian Sims</td>\n",
       "      <td>NaN</td>\n",
       "      <td>0::Arrested||1::Injured||2::Injured||3::Injure...</td>\n",
       "      <td>0::Victim||1::Victim||2::Victim||3::Victim||4:...</td>\n",
       "      <td>http://pittsburgh.cbslocal.com/2013/01/01/4-pe...</td>\n",
       "      <td>NaN</td>\n",
       "      <td>NaN</td>\n",
       "    </tr>\n",
       "    <tr>\n",
       "      <th>1</th>\n",
       "      <td>460726</td>\n",
       "      <td>2013-01-01</td>\n",
       "      <td>California</td>\n",
       "      <td>Hawthorne</td>\n",
       "      <td>13500 block of Cerise Avenue</td>\n",
       "      <td>1</td>\n",
       "      <td>3</td>\n",
       "      <td>http://www.gunviolencearchive.org/incident/460726</td>\n",
       "      <td>http://www.dailybulletin.com/article/zz/201301...</td>\n",
       "      <td>False</td>\n",
       "      <td>...</td>\n",
       "      <td>0::20</td>\n",
       "      <td>0::Adult 18+||1::Adult 18+||2::Adult 18+||3::A...</td>\n",
       "      <td>0::Male</td>\n",
       "      <td>0::Bernard Gillis</td>\n",
       "      <td>NaN</td>\n",
       "      <td>0::Killed||1::Injured||2::Injured||3::Injured</td>\n",
       "      <td>0::Victim||1::Victim||2::Victim||3::Victim||4:...</td>\n",
       "      <td>http://losangeles.cbslocal.com/2013/01/01/man-...</td>\n",
       "      <td>62.0</td>\n",
       "      <td>35.0</td>\n",
       "    </tr>\n",
       "    <tr>\n",
       "      <th>2</th>\n",
       "      <td>478855</td>\n",
       "      <td>2013-01-01</td>\n",
       "      <td>Ohio</td>\n",
       "      <td>Lorain</td>\n",
       "      <td>1776 East 28th Street</td>\n",
       "      <td>1</td>\n",
       "      <td>3</td>\n",
       "      <td>http://www.gunviolencearchive.org/incident/478855</td>\n",
       "      <td>http://chronicle.northcoastnow.com/2013/02/14/...</td>\n",
       "      <td>False</td>\n",
       "      <td>...</td>\n",
       "      <td>0::25||1::31||2::33||3::34||4::33</td>\n",
       "      <td>0::Adult 18+||1::Adult 18+||2::Adult 18+||3::A...</td>\n",
       "      <td>0::Male||1::Male||2::Male||3::Male||4::Male</td>\n",
       "      <td>0::Damien Bell||1::Desmen Noble||2::Herman Sea...</td>\n",
       "      <td>NaN</td>\n",
       "      <td>0::Injured, Unharmed, Arrested||1::Unharmed, A...</td>\n",
       "      <td>0::Subject-Suspect||1::Subject-Suspect||2::Vic...</td>\n",
       "      <td>http://www.morningjournal.com/general-news/201...</td>\n",
       "      <td>56.0</td>\n",
       "      <td>13.0</td>\n",
       "    </tr>\n",
       "    <tr>\n",
       "      <th>3</th>\n",
       "      <td>478925</td>\n",
       "      <td>2013-01-05</td>\n",
       "      <td>Colorado</td>\n",
       "      <td>Aurora</td>\n",
       "      <td>16000 block of East Ithaca Place</td>\n",
       "      <td>4</td>\n",
       "      <td>0</td>\n",
       "      <td>http://www.gunviolencearchive.org/incident/478925</td>\n",
       "      <td>http://www.dailydemocrat.com/20130106/aurora-s...</td>\n",
       "      <td>False</td>\n",
       "      <td>...</td>\n",
       "      <td>0::29||1::33||2::56||3::33</td>\n",
       "      <td>0::Adult 18+||1::Adult 18+||2::Adult 18+||3::A...</td>\n",
       "      <td>0::Female||1::Male||2::Male||3::Male</td>\n",
       "      <td>0::Stacie Philbrook||1::Christopher Ratliffe||...</td>\n",
       "      <td>NaN</td>\n",
       "      <td>0::Killed||1::Killed||2::Killed||3::Killed</td>\n",
       "      <td>0::Victim||1::Victim||2::Victim||3::Subject-Su...</td>\n",
       "      <td>http://denver.cbslocal.com/2013/01/06/officer-...</td>\n",
       "      <td>40.0</td>\n",
       "      <td>28.0</td>\n",
       "    </tr>\n",
       "    <tr>\n",
       "      <th>4</th>\n",
       "      <td>478959</td>\n",
       "      <td>2013-01-07</td>\n",
       "      <td>North Carolina</td>\n",
       "      <td>Greensboro</td>\n",
       "      <td>307 Mourning Dove Terrace</td>\n",
       "      <td>2</td>\n",
       "      <td>2</td>\n",
       "      <td>http://www.gunviolencearchive.org/incident/478959</td>\n",
       "      <td>http://www.journalnow.com/news/local/article_d...</td>\n",
       "      <td>False</td>\n",
       "      <td>...</td>\n",
       "      <td>0::18||1::46||2::14||3::47</td>\n",
       "      <td>0::Adult 18+||1::Adult 18+||2::Teen 12-17||3::...</td>\n",
       "      <td>0::Female||1::Male||2::Male||3::Female</td>\n",
       "      <td>0::Danielle Imani Jameison||1::Maurice Eugene ...</td>\n",
       "      <td>3::Family</td>\n",
       "      <td>0::Injured||1::Injured||2::Killed||3::Killed</td>\n",
       "      <td>0::Victim||1::Victim||2::Victim||3::Subject-Su...</td>\n",
       "      <td>http://myfox8.com/2013/01/08/update-mother-sho...</td>\n",
       "      <td>62.0</td>\n",
       "      <td>27.0</td>\n",
       "    </tr>\n",
       "  </tbody>\n",
       "</table>\n",
       "<p>5 rows × 29 columns</p>\n",
       "</div>"
      ],
      "text/plain": [
       "   incident_id       date           state city_or_county  \\\n",
       "0       461105 2013-01-01    Pennsylvania     Mckeesport   \n",
       "1       460726 2013-01-01      California      Hawthorne   \n",
       "2       478855 2013-01-01            Ohio         Lorain   \n",
       "3       478925 2013-01-05        Colorado         Aurora   \n",
       "4       478959 2013-01-07  North Carolina     Greensboro   \n",
       "\n",
       "                                     address  n_killed  n_injured  \\\n",
       "0  1506 Versailles Avenue and Coursin Street         0          4   \n",
       "1               13500 block of Cerise Avenue         1          3   \n",
       "2                      1776 East 28th Street         1          3   \n",
       "3           16000 block of East Ithaca Place         4          0   \n",
       "4                  307 Mourning Dove Terrace         2          2   \n",
       "\n",
       "                                        incident_url  \\\n",
       "0  http://www.gunviolencearchive.org/incident/461105   \n",
       "1  http://www.gunviolencearchive.org/incident/460726   \n",
       "2  http://www.gunviolencearchive.org/incident/478855   \n",
       "3  http://www.gunviolencearchive.org/incident/478925   \n",
       "4  http://www.gunviolencearchive.org/incident/478959   \n",
       "\n",
       "                                          source_url  \\\n",
       "0  http://www.post-gazette.com/local/south/2013/0...   \n",
       "1  http://www.dailybulletin.com/article/zz/201301...   \n",
       "2  http://chronicle.northcoastnow.com/2013/02/14/...   \n",
       "3  http://www.dailydemocrat.com/20130106/aurora-s...   \n",
       "4  http://www.journalnow.com/news/local/article_d...   \n",
       "\n",
       "   incident_url_fields_missing          ...           \\\n",
       "0                        False          ...            \n",
       "1                        False          ...            \n",
       "2                        False          ...            \n",
       "3                        False          ...            \n",
       "4                        False          ...            \n",
       "\n",
       "                     participant_age  \\\n",
       "0                              0::20   \n",
       "1                              0::20   \n",
       "2  0::25||1::31||2::33||3::34||4::33   \n",
       "3         0::29||1::33||2::56||3::33   \n",
       "4         0::18||1::46||2::14||3::47   \n",
       "\n",
       "                               participant_age_group  \\\n",
       "0  0::Adult 18+||1::Adult 18+||2::Adult 18+||3::A...   \n",
       "1  0::Adult 18+||1::Adult 18+||2::Adult 18+||3::A...   \n",
       "2  0::Adult 18+||1::Adult 18+||2::Adult 18+||3::A...   \n",
       "3  0::Adult 18+||1::Adult 18+||2::Adult 18+||3::A...   \n",
       "4  0::Adult 18+||1::Adult 18+||2::Teen 12-17||3::...   \n",
       "\n",
       "                            participant_gender  \\\n",
       "0         0::Male||1::Male||3::Male||4::Female   \n",
       "1                                      0::Male   \n",
       "2  0::Male||1::Male||2::Male||3::Male||4::Male   \n",
       "3         0::Female||1::Male||2::Male||3::Male   \n",
       "4       0::Female||1::Male||2::Male||3::Female   \n",
       "\n",
       "                                    participant_name  \\\n",
       "0                                     0::Julian Sims   \n",
       "1                                  0::Bernard Gillis   \n",
       "2  0::Damien Bell||1::Desmen Noble||2::Herman Sea...   \n",
       "3  0::Stacie Philbrook||1::Christopher Ratliffe||...   \n",
       "4  0::Danielle Imani Jameison||1::Maurice Eugene ...   \n",
       "\n",
       "   participant_relationship  \\\n",
       "0                       NaN   \n",
       "1                       NaN   \n",
       "2                       NaN   \n",
       "3                       NaN   \n",
       "4                 3::Family   \n",
       "\n",
       "                                  participant_status  \\\n",
       "0  0::Arrested||1::Injured||2::Injured||3::Injure...   \n",
       "1      0::Killed||1::Injured||2::Injured||3::Injured   \n",
       "2  0::Injured, Unharmed, Arrested||1::Unharmed, A...   \n",
       "3         0::Killed||1::Killed||2::Killed||3::Killed   \n",
       "4       0::Injured||1::Injured||2::Killed||3::Killed   \n",
       "\n",
       "                                    participant_type  \\\n",
       "0  0::Victim||1::Victim||2::Victim||3::Victim||4:...   \n",
       "1  0::Victim||1::Victim||2::Victim||3::Victim||4:...   \n",
       "2  0::Subject-Suspect||1::Subject-Suspect||2::Vic...   \n",
       "3  0::Victim||1::Victim||2::Victim||3::Subject-Su...   \n",
       "4  0::Victim||1::Victim||2::Victim||3::Subject-Su...   \n",
       "\n",
       "                                             sources state_house_district  \\\n",
       "0  http://pittsburgh.cbslocal.com/2013/01/01/4-pe...                  NaN   \n",
       "1  http://losangeles.cbslocal.com/2013/01/01/man-...                 62.0   \n",
       "2  http://www.morningjournal.com/general-news/201...                 56.0   \n",
       "3  http://denver.cbslocal.com/2013/01/06/officer-...                 40.0   \n",
       "4  http://myfox8.com/2013/01/08/update-mother-sho...                 62.0   \n",
       "\n",
       "  state_senate_district  \n",
       "0                   NaN  \n",
       "1                  35.0  \n",
       "2                  13.0  \n",
       "3                  28.0  \n",
       "4                  27.0  \n",
       "\n",
       "[5 rows x 29 columns]"
      ]
     },
     "execution_count": 3,
     "metadata": {},
     "output_type": "execute_result"
    }
   ],
   "source": [
    "data.head()"
   ]
  },
  {
   "cell_type": "code",
   "execution_count": 4,
   "metadata": {},
   "outputs": [
    {
     "name": "stdout",
     "output_type": "stream",
     "text": [
      "<class 'pandas.core.frame.DataFrame'>\n",
      "RangeIndex: 239677 entries, 0 to 239676\n",
      "Data columns (total 29 columns):\n",
      "incident_id                    239677 non-null int64\n",
      "date                           239677 non-null datetime64[ns]\n",
      "state                          239677 non-null object\n",
      "city_or_county                 239677 non-null object\n",
      "address                        223180 non-null object\n",
      "n_killed                       239677 non-null int64\n",
      "n_injured                      239677 non-null int64\n",
      "incident_url                   239677 non-null object\n",
      "source_url                     239209 non-null object\n",
      "incident_url_fields_missing    239677 non-null bool\n",
      "congressional_district         227733 non-null float64\n",
      "gun_stolen                     140179 non-null object\n",
      "gun_type                       140226 non-null object\n",
      "incident_characteristics       239351 non-null object\n",
      "latitude                       231754 non-null float64\n",
      "location_description           42089 non-null object\n",
      "longitude                      231754 non-null float64\n",
      "n_guns_involved                140226 non-null float64\n",
      "notes                          158660 non-null object\n",
      "participant_age                147379 non-null object\n",
      "participant_age_group          197558 non-null object\n",
      "participant_gender             203315 non-null object\n",
      "participant_name               117424 non-null object\n",
      "participant_relationship       15774 non-null object\n",
      "participant_status             212051 non-null object\n",
      "participant_type               214814 non-null object\n",
      "sources                        239068 non-null object\n",
      "state_house_district           200905 non-null float64\n",
      "state_senate_district          207342 non-null float64\n",
      "dtypes: bool(1), datetime64[ns](1), float64(6), int64(3), object(18)\n",
      "memory usage: 51.4+ MB\n"
     ]
    }
   ],
   "source": [
    "data.info()"
   ]
  },
  {
   "cell_type": "code",
   "execution_count": 5,
   "metadata": {},
   "outputs": [
    {
     "data": {
      "text/html": [
       "<div>\n",
       "<style>\n",
       "    .dataframe thead tr:only-child th {\n",
       "        text-align: right;\n",
       "    }\n",
       "\n",
       "    .dataframe thead th {\n",
       "        text-align: left;\n",
       "    }\n",
       "\n",
       "    .dataframe tbody tr th {\n",
       "        vertical-align: top;\n",
       "    }\n",
       "</style>\n",
       "<table border=\"1\" class=\"dataframe\">\n",
       "  <thead>\n",
       "    <tr style=\"text-align: right;\">\n",
       "      <th></th>\n",
       "      <th>incident_id</th>\n",
       "      <th>date</th>\n",
       "      <th>state</th>\n",
       "      <th>city_or_county</th>\n",
       "      <th>address</th>\n",
       "      <th>n_killed</th>\n",
       "      <th>n_injured</th>\n",
       "      <th>incident_url</th>\n",
       "      <th>source_url</th>\n",
       "      <th>incident_url_fields_missing</th>\n",
       "      <th>...</th>\n",
       "      <th>participant_age</th>\n",
       "      <th>participant_age_group</th>\n",
       "      <th>participant_gender</th>\n",
       "      <th>participant_name</th>\n",
       "      <th>participant_relationship</th>\n",
       "      <th>participant_status</th>\n",
       "      <th>participant_type</th>\n",
       "      <th>sources</th>\n",
       "      <th>state_house_district</th>\n",
       "      <th>state_senate_district</th>\n",
       "    </tr>\n",
       "  </thead>\n",
       "  <tbody>\n",
       "    <tr>\n",
       "      <th>count</th>\n",
       "      <td>2.396770e+05</td>\n",
       "      <td>239677</td>\n",
       "      <td>239677</td>\n",
       "      <td>239677</td>\n",
       "      <td>223180</td>\n",
       "      <td>239677.000000</td>\n",
       "      <td>239677.000000</td>\n",
       "      <td>239677</td>\n",
       "      <td>239209</td>\n",
       "      <td>239677</td>\n",
       "      <td>...</td>\n",
       "      <td>147379</td>\n",
       "      <td>197558</td>\n",
       "      <td>203315</td>\n",
       "      <td>117424</td>\n",
       "      <td>15774</td>\n",
       "      <td>212051</td>\n",
       "      <td>214814</td>\n",
       "      <td>239068</td>\n",
       "      <td>200905.000000</td>\n",
       "      <td>207342.00000</td>\n",
       "    </tr>\n",
       "    <tr>\n",
       "      <th>unique</th>\n",
       "      <td>NaN</td>\n",
       "      <td>1725</td>\n",
       "      <td>51</td>\n",
       "      <td>12898</td>\n",
       "      <td>198037</td>\n",
       "      <td>NaN</td>\n",
       "      <td>NaN</td>\n",
       "      <td>239677</td>\n",
       "      <td>213989</td>\n",
       "      <td>1</td>\n",
       "      <td>...</td>\n",
       "      <td>18951</td>\n",
       "      <td>898</td>\n",
       "      <td>873</td>\n",
       "      <td>113488</td>\n",
       "      <td>284</td>\n",
       "      <td>2150</td>\n",
       "      <td>259</td>\n",
       "      <td>217280</td>\n",
       "      <td>NaN</td>\n",
       "      <td>NaN</td>\n",
       "    </tr>\n",
       "    <tr>\n",
       "      <th>top</th>\n",
       "      <td>NaN</td>\n",
       "      <td>2017-01-01 00:00:00</td>\n",
       "      <td>Illinois</td>\n",
       "      <td>Chicago</td>\n",
       "      <td>2375 International Pkwy</td>\n",
       "      <td>NaN</td>\n",
       "      <td>NaN</td>\n",
       "      <td>http://www.gunviolencearchive.org/incident/567901</td>\n",
       "      <td>http://blog.tsa.gov</td>\n",
       "      <td>False</td>\n",
       "      <td>...</td>\n",
       "      <td>0::24</td>\n",
       "      <td>0::Adult 18+</td>\n",
       "      <td>0::Male</td>\n",
       "      <td>0::Officer</td>\n",
       "      <td>1::Significant others - current or former</td>\n",
       "      <td>0::Injured</td>\n",
       "      <td>0::Victim</td>\n",
       "      <td>http://blog.tsa.gov</td>\n",
       "      <td>NaN</td>\n",
       "      <td>NaN</td>\n",
       "    </tr>\n",
       "    <tr>\n",
       "      <th>freq</th>\n",
       "      <td>NaN</td>\n",
       "      <td>342</td>\n",
       "      <td>17556</td>\n",
       "      <td>10814</td>\n",
       "      <td>160</td>\n",
       "      <td>NaN</td>\n",
       "      <td>NaN</td>\n",
       "      <td>1</td>\n",
       "      <td>1092</td>\n",
       "      <td>239677</td>\n",
       "      <td>...</td>\n",
       "      <td>3814</td>\n",
       "      <td>94671</td>\n",
       "      <td>93496</td>\n",
       "      <td>144</td>\n",
       "      <td>2651</td>\n",
       "      <td>42293</td>\n",
       "      <td>58564</td>\n",
       "      <td>1092</td>\n",
       "      <td>NaN</td>\n",
       "      <td>NaN</td>\n",
       "    </tr>\n",
       "    <tr>\n",
       "      <th>first</th>\n",
       "      <td>NaN</td>\n",
       "      <td>2013-01-01 00:00:00</td>\n",
       "      <td>NaN</td>\n",
       "      <td>NaN</td>\n",
       "      <td>NaN</td>\n",
       "      <td>NaN</td>\n",
       "      <td>NaN</td>\n",
       "      <td>NaN</td>\n",
       "      <td>NaN</td>\n",
       "      <td>NaN</td>\n",
       "      <td>...</td>\n",
       "      <td>NaN</td>\n",
       "      <td>NaN</td>\n",
       "      <td>NaN</td>\n",
       "      <td>NaN</td>\n",
       "      <td>NaN</td>\n",
       "      <td>NaN</td>\n",
       "      <td>NaN</td>\n",
       "      <td>NaN</td>\n",
       "      <td>NaN</td>\n",
       "      <td>NaN</td>\n",
       "    </tr>\n",
       "    <tr>\n",
       "      <th>last</th>\n",
       "      <td>NaN</td>\n",
       "      <td>2018-03-31 00:00:00</td>\n",
       "      <td>NaN</td>\n",
       "      <td>NaN</td>\n",
       "      <td>NaN</td>\n",
       "      <td>NaN</td>\n",
       "      <td>NaN</td>\n",
       "      <td>NaN</td>\n",
       "      <td>NaN</td>\n",
       "      <td>NaN</td>\n",
       "      <td>...</td>\n",
       "      <td>NaN</td>\n",
       "      <td>NaN</td>\n",
       "      <td>NaN</td>\n",
       "      <td>NaN</td>\n",
       "      <td>NaN</td>\n",
       "      <td>NaN</td>\n",
       "      <td>NaN</td>\n",
       "      <td>NaN</td>\n",
       "      <td>NaN</td>\n",
       "      <td>NaN</td>\n",
       "    </tr>\n",
       "    <tr>\n",
       "      <th>mean</th>\n",
       "      <td>5.593343e+05</td>\n",
       "      <td>NaN</td>\n",
       "      <td>NaN</td>\n",
       "      <td>NaN</td>\n",
       "      <td>NaN</td>\n",
       "      <td>0.252290</td>\n",
       "      <td>0.494007</td>\n",
       "      <td>NaN</td>\n",
       "      <td>NaN</td>\n",
       "      <td>NaN</td>\n",
       "      <td>...</td>\n",
       "      <td>NaN</td>\n",
       "      <td>NaN</td>\n",
       "      <td>NaN</td>\n",
       "      <td>NaN</td>\n",
       "      <td>NaN</td>\n",
       "      <td>NaN</td>\n",
       "      <td>NaN</td>\n",
       "      <td>NaN</td>\n",
       "      <td>55.447132</td>\n",
       "      <td>20.47711</td>\n",
       "    </tr>\n",
       "    <tr>\n",
       "      <th>std</th>\n",
       "      <td>2.931287e+05</td>\n",
       "      <td>NaN</td>\n",
       "      <td>NaN</td>\n",
       "      <td>NaN</td>\n",
       "      <td>NaN</td>\n",
       "      <td>0.521779</td>\n",
       "      <td>0.729952</td>\n",
       "      <td>NaN</td>\n",
       "      <td>NaN</td>\n",
       "      <td>NaN</td>\n",
       "      <td>...</td>\n",
       "      <td>NaN</td>\n",
       "      <td>NaN</td>\n",
       "      <td>NaN</td>\n",
       "      <td>NaN</td>\n",
       "      <td>NaN</td>\n",
       "      <td>NaN</td>\n",
       "      <td>NaN</td>\n",
       "      <td>NaN</td>\n",
       "      <td>42.048117</td>\n",
       "      <td>14.20456</td>\n",
       "    </tr>\n",
       "    <tr>\n",
       "      <th>min</th>\n",
       "      <td>9.211400e+04</td>\n",
       "      <td>NaN</td>\n",
       "      <td>NaN</td>\n",
       "      <td>NaN</td>\n",
       "      <td>NaN</td>\n",
       "      <td>0.000000</td>\n",
       "      <td>0.000000</td>\n",
       "      <td>NaN</td>\n",
       "      <td>NaN</td>\n",
       "      <td>NaN</td>\n",
       "      <td>...</td>\n",
       "      <td>NaN</td>\n",
       "      <td>NaN</td>\n",
       "      <td>NaN</td>\n",
       "      <td>NaN</td>\n",
       "      <td>NaN</td>\n",
       "      <td>NaN</td>\n",
       "      <td>NaN</td>\n",
       "      <td>NaN</td>\n",
       "      <td>1.000000</td>\n",
       "      <td>1.00000</td>\n",
       "    </tr>\n",
       "    <tr>\n",
       "      <th>25%</th>\n",
       "      <td>3.085450e+05</td>\n",
       "      <td>NaN</td>\n",
       "      <td>NaN</td>\n",
       "      <td>NaN</td>\n",
       "      <td>NaN</td>\n",
       "      <td>0.000000</td>\n",
       "      <td>0.000000</td>\n",
       "      <td>NaN</td>\n",
       "      <td>NaN</td>\n",
       "      <td>NaN</td>\n",
       "      <td>...</td>\n",
       "      <td>NaN</td>\n",
       "      <td>NaN</td>\n",
       "      <td>NaN</td>\n",
       "      <td>NaN</td>\n",
       "      <td>NaN</td>\n",
       "      <td>NaN</td>\n",
       "      <td>NaN</td>\n",
       "      <td>NaN</td>\n",
       "      <td>21.000000</td>\n",
       "      <td>9.00000</td>\n",
       "    </tr>\n",
       "    <tr>\n",
       "      <th>50%</th>\n",
       "      <td>5.435870e+05</td>\n",
       "      <td>NaN</td>\n",
       "      <td>NaN</td>\n",
       "      <td>NaN</td>\n",
       "      <td>NaN</td>\n",
       "      <td>0.000000</td>\n",
       "      <td>0.000000</td>\n",
       "      <td>NaN</td>\n",
       "      <td>NaN</td>\n",
       "      <td>NaN</td>\n",
       "      <td>...</td>\n",
       "      <td>NaN</td>\n",
       "      <td>NaN</td>\n",
       "      <td>NaN</td>\n",
       "      <td>NaN</td>\n",
       "      <td>NaN</td>\n",
       "      <td>NaN</td>\n",
       "      <td>NaN</td>\n",
       "      <td>NaN</td>\n",
       "      <td>47.000000</td>\n",
       "      <td>19.00000</td>\n",
       "    </tr>\n",
       "    <tr>\n",
       "      <th>75%</th>\n",
       "      <td>8.172280e+05</td>\n",
       "      <td>NaN</td>\n",
       "      <td>NaN</td>\n",
       "      <td>NaN</td>\n",
       "      <td>NaN</td>\n",
       "      <td>0.000000</td>\n",
       "      <td>1.000000</td>\n",
       "      <td>NaN</td>\n",
       "      <td>NaN</td>\n",
       "      <td>NaN</td>\n",
       "      <td>...</td>\n",
       "      <td>NaN</td>\n",
       "      <td>NaN</td>\n",
       "      <td>NaN</td>\n",
       "      <td>NaN</td>\n",
       "      <td>NaN</td>\n",
       "      <td>NaN</td>\n",
       "      <td>NaN</td>\n",
       "      <td>NaN</td>\n",
       "      <td>84.000000</td>\n",
       "      <td>30.00000</td>\n",
       "    </tr>\n",
       "    <tr>\n",
       "      <th>max</th>\n",
       "      <td>1.083472e+06</td>\n",
       "      <td>NaN</td>\n",
       "      <td>NaN</td>\n",
       "      <td>NaN</td>\n",
       "      <td>NaN</td>\n",
       "      <td>50.000000</td>\n",
       "      <td>53.000000</td>\n",
       "      <td>NaN</td>\n",
       "      <td>NaN</td>\n",
       "      <td>NaN</td>\n",
       "      <td>...</td>\n",
       "      <td>NaN</td>\n",
       "      <td>NaN</td>\n",
       "      <td>NaN</td>\n",
       "      <td>NaN</td>\n",
       "      <td>NaN</td>\n",
       "      <td>NaN</td>\n",
       "      <td>NaN</td>\n",
       "      <td>NaN</td>\n",
       "      <td>901.000000</td>\n",
       "      <td>94.00000</td>\n",
       "    </tr>\n",
       "  </tbody>\n",
       "</table>\n",
       "<p>13 rows × 29 columns</p>\n",
       "</div>"
      ],
      "text/plain": [
       "         incident_id                 date     state city_or_county  \\\n",
       "count   2.396770e+05               239677    239677         239677   \n",
       "unique           NaN                 1725        51          12898   \n",
       "top              NaN  2017-01-01 00:00:00  Illinois        Chicago   \n",
       "freq             NaN                  342     17556          10814   \n",
       "first            NaN  2013-01-01 00:00:00       NaN            NaN   \n",
       "last             NaN  2018-03-31 00:00:00       NaN            NaN   \n",
       "mean    5.593343e+05                  NaN       NaN            NaN   \n",
       "std     2.931287e+05                  NaN       NaN            NaN   \n",
       "min     9.211400e+04                  NaN       NaN            NaN   \n",
       "25%     3.085450e+05                  NaN       NaN            NaN   \n",
       "50%     5.435870e+05                  NaN       NaN            NaN   \n",
       "75%     8.172280e+05                  NaN       NaN            NaN   \n",
       "max     1.083472e+06                  NaN       NaN            NaN   \n",
       "\n",
       "                        address       n_killed      n_injured  \\\n",
       "count                    223180  239677.000000  239677.000000   \n",
       "unique                   198037            NaN            NaN   \n",
       "top     2375 International Pkwy            NaN            NaN   \n",
       "freq                        160            NaN            NaN   \n",
       "first                       NaN            NaN            NaN   \n",
       "last                        NaN            NaN            NaN   \n",
       "mean                        NaN       0.252290       0.494007   \n",
       "std                         NaN       0.521779       0.729952   \n",
       "min                         NaN       0.000000       0.000000   \n",
       "25%                         NaN       0.000000       0.000000   \n",
       "50%                         NaN       0.000000       0.000000   \n",
       "75%                         NaN       0.000000       1.000000   \n",
       "max                         NaN      50.000000      53.000000   \n",
       "\n",
       "                                             incident_url  \\\n",
       "count                                              239677   \n",
       "unique                                             239677   \n",
       "top     http://www.gunviolencearchive.org/incident/567901   \n",
       "freq                                                    1   \n",
       "first                                                 NaN   \n",
       "last                                                  NaN   \n",
       "mean                                                  NaN   \n",
       "std                                                   NaN   \n",
       "min                                                   NaN   \n",
       "25%                                                   NaN   \n",
       "50%                                                   NaN   \n",
       "75%                                                   NaN   \n",
       "max                                                   NaN   \n",
       "\n",
       "                 source_url incident_url_fields_missing          ...           \\\n",
       "count                239209                      239677          ...            \n",
       "unique               213989                           1          ...            \n",
       "top     http://blog.tsa.gov                       False          ...            \n",
       "freq                   1092                      239677          ...            \n",
       "first                   NaN                         NaN          ...            \n",
       "last                    NaN                         NaN          ...            \n",
       "mean                    NaN                         NaN          ...            \n",
       "std                     NaN                         NaN          ...            \n",
       "min                     NaN                         NaN          ...            \n",
       "25%                     NaN                         NaN          ...            \n",
       "50%                     NaN                         NaN          ...            \n",
       "75%                     NaN                         NaN          ...            \n",
       "max                     NaN                         NaN          ...            \n",
       "\n",
       "        participant_age participant_age_group participant_gender  \\\n",
       "count            147379                197558             203315   \n",
       "unique            18951                   898                873   \n",
       "top               0::24          0::Adult 18+            0::Male   \n",
       "freq               3814                 94671              93496   \n",
       "first               NaN                   NaN                NaN   \n",
       "last                NaN                   NaN                NaN   \n",
       "mean                NaN                   NaN                NaN   \n",
       "std                 NaN                   NaN                NaN   \n",
       "min                 NaN                   NaN                NaN   \n",
       "25%                 NaN                   NaN                NaN   \n",
       "50%                 NaN                   NaN                NaN   \n",
       "75%                 NaN                   NaN                NaN   \n",
       "max                 NaN                   NaN                NaN   \n",
       "\n",
       "       participant_name                   participant_relationship  \\\n",
       "count            117424                                      15774   \n",
       "unique           113488                                        284   \n",
       "top          0::Officer  1::Significant others - current or former   \n",
       "freq                144                                       2651   \n",
       "first               NaN                                        NaN   \n",
       "last                NaN                                        NaN   \n",
       "mean                NaN                                        NaN   \n",
       "std                 NaN                                        NaN   \n",
       "min                 NaN                                        NaN   \n",
       "25%                 NaN                                        NaN   \n",
       "50%                 NaN                                        NaN   \n",
       "75%                 NaN                                        NaN   \n",
       "max                 NaN                                        NaN   \n",
       "\n",
       "       participant_status  participant_type              sources  \\\n",
       "count              212051            214814               239068   \n",
       "unique               2150               259               217280   \n",
       "top            0::Injured         0::Victim  http://blog.tsa.gov   \n",
       "freq                42293             58564                 1092   \n",
       "first                 NaN               NaN                  NaN   \n",
       "last                  NaN               NaN                  NaN   \n",
       "mean                  NaN               NaN                  NaN   \n",
       "std                   NaN               NaN                  NaN   \n",
       "min                   NaN               NaN                  NaN   \n",
       "25%                   NaN               NaN                  NaN   \n",
       "50%                   NaN               NaN                  NaN   \n",
       "75%                   NaN               NaN                  NaN   \n",
       "max                   NaN               NaN                  NaN   \n",
       "\n",
       "       state_house_district state_senate_district  \n",
       "count         200905.000000          207342.00000  \n",
       "unique                  NaN                   NaN  \n",
       "top                     NaN                   NaN  \n",
       "freq                    NaN                   NaN  \n",
       "first                   NaN                   NaN  \n",
       "last                    NaN                   NaN  \n",
       "mean              55.447132              20.47711  \n",
       "std               42.048117              14.20456  \n",
       "min                1.000000               1.00000  \n",
       "25%               21.000000               9.00000  \n",
       "50%               47.000000              19.00000  \n",
       "75%               84.000000              30.00000  \n",
       "max              901.000000              94.00000  \n",
       "\n",
       "[13 rows x 29 columns]"
      ]
     },
     "execution_count": 5,
     "metadata": {},
     "output_type": "execute_result"
    }
   ],
   "source": [
    "data.describe(include='all')"
   ]
  },
  {
   "cell_type": "code",
   "execution_count": 6,
   "metadata": {
    "collapsed": true
   },
   "outputs": [],
   "source": [
    "data['year']=data['date'].dt.year\n",
    "data['month']=data['date'].dt.month\n",
    "data['monthday']=data['date'].dt.day\n",
    "data['weekday']=data['date'].dt.weekday\n",
    "data['impacted'] = data['n_killed']+data['n_injured']"
   ]
  },
  {
   "cell_type": "code",
   "execution_count": 7,
   "metadata": {
    "collapsed": true
   },
   "outputs": [],
   "source": [
    "# function to aggregate and return keys and values\n",
    "def create_stack_bar_data(col):\n",
    "    aggregated = df[col].value_counts()\n",
    "    x_values = aggregated.index.tolist()\n",
    "    y_values = aggregated.values.tolist()\n",
    "    return x_values, y_values"
   ]
  },
  {
   "cell_type": "markdown",
   "metadata": {},
   "source": [
    "# Exploration"
   ]
  },
  {
   "cell_type": "markdown",
   "metadata": {},
   "source": [
    "Year wise breakdown of Number of Incidents"
   ]
  },
  {
   "cell_type": "code",
   "execution_count": 8,
   "metadata": {
    "collapsed": true
   },
   "outputs": [],
   "source": [
    "year_wise_counts = data['year'].value_counts()"
   ]
  },
  {
   "cell_type": "code",
   "execution_count": 10,
   "metadata": {
    "collapsed": true
   },
   "outputs": [],
   "source": [
    "years = year_wise_counts.index.tolist()\n",
    "year_counts = year_wise_counts.values.tolist()"
   ]
  },
  {
   "cell_type": "code",
   "execution_count": 13,
   "metadata": {
    "collapsed": true
   },
   "outputs": [],
   "source": [
    "trace1 = go.Bar(x = years, \n",
    "                y = year_counts, \n",
    "                marker = dict(color = 'rgba(10,220,15,0.6)'))"
   ]
  },
  {
   "cell_type": "code",
   "execution_count": 35,
   "metadata": {
    "collapsed": true
   },
   "outputs": [],
   "source": [
    "layout = dict(height = 300, \n",
    "              title = 'Yearly breakdown of Gun Violence Incidents in USA', \n",
    "              legend = dict(orientation = 'h'))"
   ]
  },
  {
   "cell_type": "code",
   "execution_count": 36,
   "metadata": {},
   "outputs": [],
   "source": [
    "fig = go.Figure(data = [trace1],layout = layout)"
   ]
  },
  {
   "cell_type": "code",
   "execution_count": 37,
   "metadata": {},
   "outputs": [
    {
     "data": {
      "application/vnd.plotly.v1+json": {
       "data": [
        {
         "marker": {
          "color": "rgba(10,220,15,0.6)"
         },
         "type": "bar",
         "x": [
          2017,
          2016,
          2015,
          2014,
          2018,
          2013
         ],
         "y": [
          61401,
          58763,
          53579,
          51854,
          13802,
          278
         ]
        }
       ],
       "layout": {
        "height": 300,
        "legend": {
         "orientation": "h"
        },
        "title": "Yearly breakdown of Gun Violence Incidents in USA"
       }
      },
      "text/html": [
       "<div id=\"c5559284-b4c0-4d51-8a89-9fc647c1e45d\" style=\"height: 300px; width: 100%;\" class=\"plotly-graph-div\"></div><script type=\"text/javascript\">require([\"plotly\"], function(Plotly) { window.PLOTLYENV=window.PLOTLYENV || {};window.PLOTLYENV.BASE_URL=\"https://plot.ly\";Plotly.newPlot(\"c5559284-b4c0-4d51-8a89-9fc647c1e45d\", [{\"marker\": {\"color\": \"rgba(10,220,15,0.6)\"}, \"y\": [61401, 58763, 53579, 51854, 13802, 278], \"type\": \"bar\", \"x\": [2017, 2016, 2015, 2014, 2018, 2013]}], {\"title\": \"Yearly breakdown of Gun Violence Incidents in USA\", \"legend\": {\"orientation\": \"h\"}, \"height\": 300}, {\"linkText\": \"Export to plot.ly\", \"showLink\": true})});</script>"
      ],
      "text/vnd.plotly.v1+html": [
       "<div id=\"c5559284-b4c0-4d51-8a89-9fc647c1e45d\" style=\"height: 300px; width: 100%;\" class=\"plotly-graph-div\"></div><script type=\"text/javascript\">require([\"plotly\"], function(Plotly) { window.PLOTLYENV=window.PLOTLYENV || {};window.PLOTLYENV.BASE_URL=\"https://plot.ly\";Plotly.newPlot(\"c5559284-b4c0-4d51-8a89-9fc647c1e45d\", [{\"marker\": {\"color\": \"rgba(10,220,15,0.6)\"}, \"y\": [61401, 58763, 53579, 51854, 13802, 278], \"type\": \"bar\", \"x\": [2017, 2016, 2015, 2014, 2018, 2013]}], {\"title\": \"Yearly breakdown of Gun Violence Incidents in USA\", \"legend\": {\"orientation\": \"h\"}, \"height\": 300}, {\"linkText\": \"Export to plot.ly\", \"showLink\": true})});</script>"
      ]
     },
     "metadata": {},
     "output_type": "display_data"
    }
   ],
   "source": [
    "iplot(fig)"
   ]
  },
  {
   "cell_type": "markdown",
   "metadata": {},
   "source": [
    "Monthly breakdown of Incidents"
   ]
  },
  {
   "cell_type": "code",
   "execution_count": 21,
   "metadata": {},
   "outputs": [],
   "source": [
    "month_wise_counts = data['month'].value_counts()"
   ]
  },
  {
   "cell_type": "code",
   "execution_count": 23,
   "metadata": {},
   "outputs": [],
   "source": [
    "months = month_wise_counts.index.tolist()\n",
    "month_counts = month_wise_counts.values.tolist()"
   ]
  },
  {
   "cell_type": "code",
   "execution_count": 32,
   "metadata": {},
   "outputs": [],
   "source": [
    "mapper = {}\n",
    "for m,v in zip(months,month_counts):\n",
    "    mapper[m] = v"
   ]
  },
  {
   "cell_type": "code",
   "execution_count": 33,
   "metadata": {},
   "outputs": [],
   "source": [
    "month_name = [calendar.month_abbr[int(X)] for X in sorted(months)]\n",
    "monthly_counts = [mapper[X] for X in sorted(months)]"
   ]
  },
  {
   "cell_type": "code",
   "execution_count": 34,
   "metadata": {
    "collapsed": true
   },
   "outputs": [],
   "source": [
    "trace2 = go.Bar(x=month_name, y=monthly_counts, marker = dict(color = 'rgba(100,20,10,0.6)'))"
   ]
  },
  {
   "cell_type": "code",
   "execution_count": 38,
   "metadata": {
    "collapsed": true
   },
   "outputs": [],
   "source": [
    "layout = dict(height = 300, \n",
    "              title = 'Monthly breakdown of Gun Violence Incidents in USA', \n",
    "              legend = dict(orientation ='h'))"
   ]
  },
  {
   "cell_type": "code",
   "execution_count": 39,
   "metadata": {
    "collapsed": true
   },
   "outputs": [],
   "source": [
    "fig2 = go.Figure(data = [trace2],layout = layout)"
   ]
  },
  {
   "cell_type": "code",
   "execution_count": 41,
   "metadata": {},
   "outputs": [
    {
     "data": {
      "application/vnd.plotly.v1+json": {
       "data": [
        {
         "marker": {
          "color": "rgba(100,20,10,0.6)"
         },
         "type": "bar",
         "x": [
          "Jan",
          "Feb",
          "Mar",
          "Apr",
          "May",
          "Jun",
          "Jul",
          "Aug",
          "Sep",
          "Oct",
          "Nov",
          "Dec"
         ],
         "y": [
          23091,
          18841,
          22640,
          18628,
          19930,
          18755,
          21126,
          21040,
          19656,
          19890,
          17974,
          18106
         ]
        }
       ],
       "layout": {
        "height": 300,
        "legend": {
         "orientation": "h"
        },
        "title": "Monthly breakdown of Gun Violence Incidents in USA"
       }
      },
      "text/html": [
       "<div id=\"176065c6-ca3e-4830-be8e-1e5011be3013\" style=\"height: 300px; width: 100%;\" class=\"plotly-graph-div\"></div><script type=\"text/javascript\">require([\"plotly\"], function(Plotly) { window.PLOTLYENV=window.PLOTLYENV || {};window.PLOTLYENV.BASE_URL=\"https://plot.ly\";Plotly.newPlot(\"176065c6-ca3e-4830-be8e-1e5011be3013\", [{\"marker\": {\"color\": \"rgba(100,20,10,0.6)\"}, \"y\": [23091, 18841, 22640, 18628, 19930, 18755, 21126, 21040, 19656, 19890, 17974, 18106], \"type\": \"bar\", \"x\": [\"Jan\", \"Feb\", \"Mar\", \"Apr\", \"May\", \"Jun\", \"Jul\", \"Aug\", \"Sep\", \"Oct\", \"Nov\", \"Dec\"]}], {\"title\": \"Monthly breakdown of Gun Violence Incidents in USA\", \"legend\": {\"orientation\": \"h\"}, \"height\": 300}, {\"linkText\": \"Export to plot.ly\", \"showLink\": true})});</script>"
      ],
      "text/vnd.plotly.v1+html": [
       "<div id=\"176065c6-ca3e-4830-be8e-1e5011be3013\" style=\"height: 300px; width: 100%;\" class=\"plotly-graph-div\"></div><script type=\"text/javascript\">require([\"plotly\"], function(Plotly) { window.PLOTLYENV=window.PLOTLYENV || {};window.PLOTLYENV.BASE_URL=\"https://plot.ly\";Plotly.newPlot(\"176065c6-ca3e-4830-be8e-1e5011be3013\", [{\"marker\": {\"color\": \"rgba(100,20,10,0.6)\"}, \"y\": [23091, 18841, 22640, 18628, 19930, 18755, 21126, 21040, 19656, 19890, 17974, 18106], \"type\": \"bar\", \"x\": [\"Jan\", \"Feb\", \"Mar\", \"Apr\", \"May\", \"Jun\", \"Jul\", \"Aug\", \"Sep\", \"Oct\", \"Nov\", \"Dec\"]}], {\"title\": \"Monthly breakdown of Gun Violence Incidents in USA\", \"legend\": {\"orientation\": \"h\"}, \"height\": 300}, {\"linkText\": \"Export to plot.ly\", \"showLink\": true})});</script>"
      ]
     },
     "metadata": {},
     "output_type": "display_data"
    }
   ],
   "source": [
    "iplot(fig2)"
   ]
  },
  {
   "cell_type": "markdown",
   "metadata": {},
   "source": [
    "Day of the month breakdown of Incidents"
   ]
  },
  {
   "cell_type": "code",
   "execution_count": 42,
   "metadata": {
    "collapsed": true
   },
   "outputs": [],
   "source": [
    "daily_counts = data['monthday'].value_counts()"
   ]
  },
  {
   "cell_type": "code",
   "execution_count": 43,
   "metadata": {
    "collapsed": true
   },
   "outputs": [],
   "source": [
    "days = daily_counts.index.tolist()\n",
    "day_count = daily_counts.values.tolist()"
   ]
  },
  {
   "cell_type": "code",
   "execution_count": 47,
   "metadata": {},
   "outputs": [],
   "source": [
    "trace3 = go.Bar(x=days, y=day_count, marker = dict(color = 'rgba(210,120,10,0.6)'))"
   ]
  },
  {
   "cell_type": "code",
   "execution_count": 48,
   "metadata": {
    "collapsed": true
   },
   "outputs": [],
   "source": [
    "layout = dict(height = 300, \n",
    "              title = 'Daily breakdown of Gun Violence Incidents in USA', \n",
    "              legend = dict(orientation = 'h'))"
   ]
  },
  {
   "cell_type": "code",
   "execution_count": 49,
   "metadata": {
    "collapsed": true
   },
   "outputs": [],
   "source": [
    "fig3 = go.Figure(data = [trace3],layout = layout)"
   ]
  },
  {
   "cell_type": "code",
   "execution_count": 50,
   "metadata": {},
   "outputs": [
    {
     "data": {
      "application/vnd.plotly.v1+json": {
       "data": [
        {
         "marker": {
          "color": "rgba(210,120,10,0.6)"
         },
         "type": "bar",
         "x": [
          1,
          25,
          19,
          20,
          27,
          5,
          26,
          28,
          17,
          13,
          18,
          15,
          23,
          4,
          11,
          12,
          16,
          8,
          21,
          6,
          22,
          24,
          9,
          3,
          7,
          14,
          2,
          10,
          29,
          30,
          31
         ],
         "y": [
          8555,
          8072,
          8061,
          8047,
          8016,
          7999,
          7989,
          7949,
          7947,
          7945,
          7918,
          7890,
          7854,
          7849,
          7827,
          7815,
          7804,
          7787,
          7773,
          7742,
          7718,
          7712,
          7707,
          7688,
          7682,
          7657,
          7605,
          7577,
          7422,
          7242,
          4828
         ]
        }
       ],
       "layout": {
        "height": 300,
        "legend": {
         "orientation": "h"
        },
        "title": "Daily breakdown of Gun Violence Incidents in USA"
       }
      },
      "text/html": [
       "<div id=\"3016b34b-1d25-4060-ae09-214ea08b4a44\" style=\"height: 300px; width: 100%;\" class=\"plotly-graph-div\"></div><script type=\"text/javascript\">require([\"plotly\"], function(Plotly) { window.PLOTLYENV=window.PLOTLYENV || {};window.PLOTLYENV.BASE_URL=\"https://plot.ly\";Plotly.newPlot(\"3016b34b-1d25-4060-ae09-214ea08b4a44\", [{\"marker\": {\"color\": \"rgba(210,120,10,0.6)\"}, \"y\": [8555, 8072, 8061, 8047, 8016, 7999, 7989, 7949, 7947, 7945, 7918, 7890, 7854, 7849, 7827, 7815, 7804, 7787, 7773, 7742, 7718, 7712, 7707, 7688, 7682, 7657, 7605, 7577, 7422, 7242, 4828], \"type\": \"bar\", \"x\": [1, 25, 19, 20, 27, 5, 26, 28, 17, 13, 18, 15, 23, 4, 11, 12, 16, 8, 21, 6, 22, 24, 9, 3, 7, 14, 2, 10, 29, 30, 31]}], {\"title\": \"Daily breakdown of Gun Violence Incidents in USA\", \"legend\": {\"orientation\": \"h\"}, \"height\": 300}, {\"linkText\": \"Export to plot.ly\", \"showLink\": true})});</script>"
      ],
      "text/vnd.plotly.v1+html": [
       "<div id=\"3016b34b-1d25-4060-ae09-214ea08b4a44\" style=\"height: 300px; width: 100%;\" class=\"plotly-graph-div\"></div><script type=\"text/javascript\">require([\"plotly\"], function(Plotly) { window.PLOTLYENV=window.PLOTLYENV || {};window.PLOTLYENV.BASE_URL=\"https://plot.ly\";Plotly.newPlot(\"3016b34b-1d25-4060-ae09-214ea08b4a44\", [{\"marker\": {\"color\": \"rgba(210,120,10,0.6)\"}, \"y\": [8555, 8072, 8061, 8047, 8016, 7999, 7989, 7949, 7947, 7945, 7918, 7890, 7854, 7849, 7827, 7815, 7804, 7787, 7773, 7742, 7718, 7712, 7707, 7688, 7682, 7657, 7605, 7577, 7422, 7242, 4828], \"type\": \"bar\", \"x\": [1, 25, 19, 20, 27, 5, 26, 28, 17, 13, 18, 15, 23, 4, 11, 12, 16, 8, 21, 6, 22, 24, 9, 3, 7, 14, 2, 10, 29, 30, 31]}], {\"title\": \"Daily breakdown of Gun Violence Incidents in USA\", \"legend\": {\"orientation\": \"h\"}, \"height\": 300}, {\"linkText\": \"Export to plot.ly\", \"showLink\": true})});</script>"
      ]
     },
     "metadata": {},
     "output_type": "display_data"
    }
   ],
   "source": [
    "iplot(fig3)"
   ]
  },
  {
   "cell_type": "markdown",
   "metadata": {},
   "source": [
    "Day of the week breakdown of Incidents"
   ]
  },
  {
   "cell_type": "code",
   "execution_count": 51,
   "metadata": {
    "collapsed": true
   },
   "outputs": [],
   "source": [
    "weekday_count = data['weekday'].value_counts()"
   ]
  },
  {
   "cell_type": "code",
   "execution_count": 52,
   "metadata": {
    "collapsed": true
   },
   "outputs": [],
   "source": [
    "weekday = weekday_count.index.tolist()\n",
    "weekday_counts = weekday_count.values.tolist()"
   ]
  },
  {
   "cell_type": "code",
   "execution_count": 58,
   "metadata": {},
   "outputs": [
    {
     "data": {
      "text/plain": [
       "6    37052\n",
       "5    36096\n",
       "2    34126\n",
       "0    33760\n",
       "1    33307\n",
       "4    32775\n",
       "3    32561\n",
       "Name: weekday, dtype: int64"
      ]
     },
     "execution_count": 58,
     "metadata": {},
     "output_type": "execute_result"
    }
   ],
   "source": [
    "weekday_count"
   ]
  },
  {
   "cell_type": "code",
   "execution_count": 59,
   "metadata": {
    "collapsed": true
   },
   "outputs": [],
   "source": [
    "mapper = {}\n",
    "for m,v in zip(weekday,weekday_counts):\n",
    "    mapper[m] = v"
   ]
  },
  {
   "cell_type": "code",
   "execution_count": 61,
   "metadata": {},
   "outputs": [],
   "source": [
    "weekdays = [calendar.day_abbr[int(X)] for X in sorted(weekday)]"
   ]
  },
  {
   "cell_type": "code",
   "execution_count": 63,
   "metadata": {},
   "outputs": [],
   "source": [
    "weekday_counts = [mapper[X] for X in sorted(weekday)]"
   ]
  },
  {
   "cell_type": "code",
   "execution_count": 70,
   "metadata": {},
   "outputs": [
    {
     "data": {
      "text/plain": [
       "['Mon', 'Tue', 'Wed', 'Thu', 'Fri', 'Sat', 'Sun']"
      ]
     },
     "execution_count": 70,
     "metadata": {},
     "output_type": "execute_result"
    }
   ],
   "source": [
    "weekdays"
   ]
  },
  {
   "cell_type": "code",
   "execution_count": 67,
   "metadata": {},
   "outputs": [
    {
     "data": {
      "text/plain": [
       "[33760, 33307, 34126, 32561, 32775, 36096, 37052]"
      ]
     },
     "execution_count": 67,
     "metadata": {},
     "output_type": "execute_result"
    }
   ],
   "source": [
    "weekday_counts"
   ]
  },
  {
   "cell_type": "code",
   "execution_count": 71,
   "metadata": {
    "collapsed": true
   },
   "outputs": [],
   "source": [
    "trace4 = go.Bar(x=weekdays, y=weekday_counts, marker = dict(color = 'rgba(21,10,250,0.6)'))"
   ]
  },
  {
   "cell_type": "code",
   "execution_count": 72,
   "metadata": {
    "collapsed": true
   },
   "outputs": [],
   "source": [
    "layout = dict(height = 300, \n",
    "              title = 'Day of the week breakdown of Gun Violence Incidents',\n",
    "              legend = dict(orientation = 'h'))"
   ]
  },
  {
   "cell_type": "code",
   "execution_count": 75,
   "metadata": {},
   "outputs": [],
   "source": [
    "fig4 = go.Figure(data = [trace4],layout=layout)"
   ]
  },
  {
   "cell_type": "code",
   "execution_count": 76,
   "metadata": {},
   "outputs": [
    {
     "data": {
      "application/vnd.plotly.v1+json": {
       "data": [
        {
         "marker": {
          "color": "rgba(21,10,250,0.6)"
         },
         "type": "bar",
         "x": [
          "Mon",
          "Tue",
          "Wed",
          "Thu",
          "Fri",
          "Sat",
          "Sun"
         ],
         "y": [
          33760,
          33307,
          34126,
          32561,
          32775,
          36096,
          37052
         ]
        }
       ],
       "layout": {
        "height": 300,
        "legend": {
         "orientation": "h"
        },
        "title": "Day of the week breakdown of Gun Violence Incidents"
       }
      },
      "text/html": [
       "<div id=\"db9a106e-1c15-4b24-a86c-1fc3874f64fb\" style=\"height: 300px; width: 100%;\" class=\"plotly-graph-div\"></div><script type=\"text/javascript\">require([\"plotly\"], function(Plotly) { window.PLOTLYENV=window.PLOTLYENV || {};window.PLOTLYENV.BASE_URL=\"https://plot.ly\";Plotly.newPlot(\"db9a106e-1c15-4b24-a86c-1fc3874f64fb\", [{\"marker\": {\"color\": \"rgba(21,10,250,0.6)\"}, \"y\": [33760, 33307, 34126, 32561, 32775, 36096, 37052], \"type\": \"bar\", \"x\": [\"Mon\", \"Tue\", \"Wed\", \"Thu\", \"Fri\", \"Sat\", \"Sun\"]}], {\"title\": \"Day of the week breakdown of Gun Violence Incidents\", \"legend\": {\"orientation\": \"h\"}, \"height\": 300}, {\"linkText\": \"Export to plot.ly\", \"showLink\": true})});</script>"
      ],
      "text/vnd.plotly.v1+html": [
       "<div id=\"db9a106e-1c15-4b24-a86c-1fc3874f64fb\" style=\"height: 300px; width: 100%;\" class=\"plotly-graph-div\"></div><script type=\"text/javascript\">require([\"plotly\"], function(Plotly) { window.PLOTLYENV=window.PLOTLYENV || {};window.PLOTLYENV.BASE_URL=\"https://plot.ly\";Plotly.newPlot(\"db9a106e-1c15-4b24-a86c-1fc3874f64fb\", [{\"marker\": {\"color\": \"rgba(21,10,250,0.6)\"}, \"y\": [33760, 33307, 34126, 32561, 32775, 36096, 37052], \"type\": \"bar\", \"x\": [\"Mon\", \"Tue\", \"Wed\", \"Thu\", \"Fri\", \"Sat\", \"Sun\"]}], {\"title\": \"Day of the week breakdown of Gun Violence Incidents\", \"legend\": {\"orientation\": \"h\"}, \"height\": 300}, {\"linkText\": \"Export to plot.ly\", \"showLink\": true})});</script>"
      ]
     },
     "metadata": {},
     "output_type": "display_data"
    }
   ],
   "source": [
    "iplot(fig4)"
   ]
  },
  {
   "cell_type": "code",
   "execution_count": null,
   "metadata": {
    "collapsed": true
   },
   "outputs": [],
   "source": []
  }
 ],
 "metadata": {
  "kernelspec": {
   "display_name": "Python 2",
   "language": "python",
   "name": "python2"
  },
  "language_info": {
   "codemirror_mode": {
    "name": "ipython",
    "version": 2
   },
   "file_extension": ".py",
   "mimetype": "text/x-python",
   "name": "python",
   "nbconvert_exporter": "python",
   "pygments_lexer": "ipython2",
   "version": "2.7.14"
  }
 },
 "nbformat": 4,
 "nbformat_minor": 2
}
